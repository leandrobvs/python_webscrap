{
 "cells": [
  {
   "cell_type": "markdown",
   "metadata": {},
   "source": [
    "# Análise de Reclamações do Nubank no Reclame Aqui <a id='titulo-principal'></a>\n",
    "## Web Scraping e Análise de Dados Textuais\n",
    "\n",
    "---\n",
    "\n",
    "### Sumário\n",
    "- [Propósito](#proposito)\n",
    "- [Contexto do Projeto](#contexto-do-projeto)\n",
    "- [Dataset](#dataset)\n",
    "  - [Extração dos Dados](#extracao-dos-dados)\n",
    "  - [Web Scraping](#web-scraping)\n",
    "  - [Preparo dos Dados](#preparo-dos-dados)\n",
    "- [Exploração dos Dados](#exploracao-dos-dados)\n",
    "  - [Métricas Gerais](#metricas-gerais)\n",
    "- [Análise de Texto](#analise-de-texto)\n",
    "  - [Pré-processamento](#pre-processamento)\n",
    "  - [Identificação de Sentimentos](#identificao-de-sentimentos)\n",
    "- [Visualizações](#visualizacoes)\n",
    "- [Insights e Recomendações](#insights-e-recomendacoes)\n",
    "- [Notas e Advertências](#notas-e-advertencias)\n",
    "- [Conclusões](#conclusoes)\n",
    "\n",
    "---\n",
    "\n",
    "### Propósito <a id='proposito'></a>\n",
    "Este projeto tem como objetivo demonstrar técnicas de web scraping e análise de dados textuais, utilizando reclamações do Nubank coletadas no Reclame Aqui. A ideia é identificar padrões e fornecer insights úteis para o Nubank melhorar seus serviços, respondendo a perguntas como \"Qual é o tipo de reclamação mais comum?\" e \"Quais áreas merecem mais atenção?\".\n",
    "\n",
    "A realidade de um analista de dados? Esqueça a utopia de queries perfeitas e arquivos CSV prontos para uso. No mundo real, precisamos caçar dados valiosos como verdadeiros detetives, explorando cada fonte possível para extrair os insights que transformarão o rumo dos negócios.\n",
    "\n",
    "\n",
    "### Contexto do Projeto <a id='contexto-do-projeto'></a>\n",
    "O **Reclame Aqui** é uma plataforma onde consumidores registram reclamações sobre empresas. O **Nubank**, uma fintech líder no Brasil, é alvo de diversas reclamações que podem revelar pontos de insatisfação. Este projeto usa web scraping para coletar esses dados e análise textual para extrair informações estratégicas. Este projeto não apenas simula os desafios reais de 'garimpar' informações valiosas, mas demonstra como ferramentas de extração automatizada transformam dados dispersos em ouro estratégico. Uma prova viva de que, no mundo dos dados, quem sabe caçar tem vantagem competitiva.\n",
    "\n",
    "\n",
    "### Dataset <a id='dataset'></a>\n",
    "\n",
    "#### Extração dos Dados <a id='extracao-dos-dados'></a>\n",
    "O Reclame Aqui, apesar de oferecer serviços de API para as empresas, esses serviços são pagos. Pensando que nem toda empresa tem recursos infinitos para pagar todo tipo de serviço, aqui escolhemos demonstrar o caminho da mineração direta. Com Python em mãos, mergulhamos na plataforma, extraindo informações preciosas sem investir um centavo. Esta técnica de web scraping não é apenas uma alternativa gratuita – é uma demonstração prática de como transformar códigos simples em ferramentas poderosas de inteligência competitiva.\n",
    "\n",
    "Para esse pequeno projeto escolhemos coletar o título e a breve descrição da reclamação postada por cada cliente.\n",
    "\n",
    "#### Web Scraping - Código <a id='web-scraping'></a>\n",
    "\n",
    "Mas o que é esse web scraping? O Python + Selenium permite a automação da navegação em sites, simulando o comportamento de um usuário real. Ele segue um fluxo estruturado, acessando páginas, interagindo com elementos e extraindo informações com base nas tags HTML e seletores CSS definidos no código. Para isso, é essencial ter um conhecimento básico de HTML e CSS, pois é através dessas estruturas que o código identifica e coleta os dados necessários. Com Selenium, é possível navegar entre páginas, clicar em botões, preencher formulários e rolar a tela automaticamente, tornando a raspagem de dados eficiente e precisa.\n",
    "\n",
    "Lembrando que existe uma variedade de formas para executar o web scraping, utilizando o Puppeteer ou Cheerio que é atráves do JavaScript, BeautifulSoup ou Scrapy que utilizam o Python.\n",
    "Neste projeto, utilizei Python + Selenium Base para coletar as reclamações. Vamos ver como funcionou o processo de coleta dos dados:"
   ]
  },
  {
   "cell_type": "code",
   "execution_count": null,
   "metadata": {},
   "outputs": [],
   "source": [
    "from seleniumbase import Driver\n",
    "import time\n",
    "import pandas as pd\n",
    "from selenium.webdriver.support.ui import WebDriverWait\n",
    "from selenium.webdriver.support import expected_conditions as EC"
   ]
  },
  {
   "cell_type": "markdown",
   "metadata": {},
   "source": [
    "Acima vemos que primeiro, trouxe os reforços necessários (as bibliotecas que vamos utilizar): \n",
    "   - Selenium (seleniumbase): nosso \"navegador robô\" que automatiza a exploração do site\n",
    "   - Pandas: para organizar os dados coletados em tabelas\n",
    "   - Time: para dar pausas estratégicas, evitando que o site nos bloqueie"
   ]
  },
  {
   "cell_type": "code",
   "execution_count": null,
   "metadata": {},
   "outputs": [],
   "source": [
    "# Configurar o driver\n",
    "driver = Driver(uc=True, browser=\"chrome\")\n",
    "\n",
    "# Navegar até a página\n",
    "driver.get(\"https://www.reclameaqui.com.br/empresa/nubank/lista-reclamacoes/\")\n",
    "time.sleep(5)"
   ]
  },
  {
   "cell_type": "markdown",
   "metadata": {},
   "source": [
    "Em seguida, configurei o \"robô explorador\":\n",
    "   - Criei um driver Chrome em modo \"invisível\" (uc=True)\n",
    "   - Direcionei-o para a página de reclamações do Nubank\n",
    "   - Dei 5 segundos para a página carregar completamente"
   ]
  },
  {
   "cell_type": "code",
   "execution_count": null,
   "metadata": {},
   "outputs": [],
   "source": [
    "# Clicar no botão \"Últimas\"\n",
    "ultimas_button = driver.find_element(\"xpath\", \"//button[text()='Últimas']\")\n",
    "driver.execute_script(\"arguments[0].scrollIntoView({block: 'center'});\", ultimas_button)\n",
    "time.sleep(1)\n",
    "driver.execute_script(\"arguments[0].click();\", ultimas_button)\n",
    "time.sleep(2)"
   ]
  },
  {
   "cell_type": "markdown",
   "metadata": {},
   "source": [
    "Para conseguir os dados mais atuais:\n",
    "   - Localizei e cliquei no botão \"Últimas\" usando xpath\n",
    "   - Usei scrollIntoView para garantir que o botão estivesse visível\n",
    "   - Programei 2 segundos de espera para a nova ordenação carregar"
   ]
  },
  {
   "cell_type": "code",
   "execution_count": null,
   "metadata": {},
   "outputs": [],
   "source": [
    "wait = WebDriverWait(driver, 30)\n",
    "\n",
    "# Definir número de páginas a raspar\n",
    "num_pages = 50\n",
    "data = []\n",
    "\n",
    "# Loop para raspar as páginas\n",
    "for page in range(num_pages):\n",
    "    try:\n",
    "        wait.until(EC.presence_of_element_located((\"css selector\", \".sc-1pe7b5t-0.eJgBOc\")))\n",
    "    except:\n",
    "        break\n",
    "    \n",
    "    driver.execute_script(\"window.scrollBy(0, 1000);\")\n",
    "    time.sleep(2)\n",
    "    \n",
    "    complaint_divs = driver.find_elements(\"css selector\", \".sc-1pe7b5t-0.eJgBOc\")\n",
    "    \n",
    "    for div in complaint_divs:\n",
    "        try:\n",
    "            title = div.find_element(\"tag name\", \"h4\").text\n",
    "            description = div.find_element(\"tag name\", \"p\").text\n",
    "            data.append({\"title\": title, \"description\": description})\n",
    "        except:\n",
    "            pass\n",
    "    \n",
    "    if page < num_pages - 1:\n",
    "        try:\n",
    "            next_button = wait.until(EC.element_to_be_clickable((\"xpath\", \"//button[@aria-label='botão de navegação para a próxima página']\")))\n",
    "            driver.execute_script(\"arguments[0].scrollIntoView({block: 'center'});\", next_button)\n",
    "            time.sleep(1)\n",
    "            driver.execute_script(\"arguments[0].click();\", next_button)\n",
    "            time.sleep(10)\n",
    "            driver.refresh()\n",
    "            time.sleep(5)\n",
    "        except:\n",
    "            break\n",
    "\n",
    "# Criar DataFrame e salvar em CSV\n",
    "df = pd.DataFrame(data)\n",
    "df.to_csv(\"reclamacoes.csv\", index=False, encoding=\"utf-8\")\n",
    "\n",
    "# Fechar o navegador\n",
    "driver.quit()"
   ]
  },
  {
   "cell_type": "markdown",
   "metadata": {},
   "source": [
    "Função para uma coleta robusta:\n",
    "   - Configurei um sistema de espera inteligente (WebDriverWait)\n",
    "   - Defini que queria coletar dados de 50 páginas de reclamações\n",
    "   - Criei uma lista vazia para armazenar todos os dados raspados\n",
    "\n",
    "A partir desse código a coleta fica nesse loop até a página indicada, e assim vamos jogando o título e a breve descrição da postagem na lista com nome *data* que depois exportamos para um CSV com o nome de *reclamacoes.csv* - transformando o que seria horas de trabalho manual em um processo automático de minutos."
   ]
  },
  {
   "cell_type": "markdown",
   "metadata": {},
   "source": [
    "### Preparo dos Dados <a id='preparo-dos-dados'></a>"
   ]
  },
  {
   "cell_type": "code",
   "execution_count": 1,
   "metadata": {},
   "outputs": [],
   "source": [
    "import pandas as pd\n",
    "import numpy as np\n",
    "import matplotlib.pyplot as plt\n",
    "import seaborn as sns\n",
    "import re\n",
    "import string\n",
    "from collections import Counter\n",
    "\n",
    "# Configurações para visualização\n",
    "plt.style.use('ggplot')\n",
    "sns.set(font_scale=1.2)\n",
    "pd.set_option('display.max_columns', None)\n",
    "pd.set_option('display.max_rows', 20)\n",
    "\n",
    "# Carregar o dataset\n",
    "df = pd.read_csv('reclamacoes.csv')"
   ]
  },
  {
   "cell_type": "code",
   "execution_count": 2,
   "metadata": {},
   "outputs": [
    {
     "name": "stdout",
     "output_type": "stream",
     "text": [
      "Número de reclamações duplicadas: 44\n"
     ]
    },
    {
     "data": {
      "application/vnd.microsoft.datawrangler.viewer.v0+json": {
       "columns": [
        {
         "name": "index",
         "rawType": "int64",
         "type": "integer"
        },
        {
         "name": "title",
         "rawType": "object",
         "type": "string"
        },
        {
         "name": "description",
         "rawType": "object",
         "type": "string"
        }
       ],
       "conversionMethod": "pd.DataFrame",
       "ref": "f624e3c7-2c44-42d3-ac27-18421fb5d5c4",
       "rows": [
        [
         "460",
         "*******",
         "Eu fiquei realmente sem condição de pagar o cartão, eu finalmente consegui paga cartão de crédito nubank. só que não consegui..."
        ],
        [
         "459",
         "*******",
         "Eu fiquei realmente sem condição de pagar o cartão, eu finalmente consegui paga cartão de crédito nubank. só que não consegui..."
        ],
        [
         "5",
         "AUMENTO DE LIMITE NO CARTÃO DE CRÉDITO",
         "Olá, Estou tentando aumento de limite no meu cartão NuBank, mais sem sucesso, estou com todas minhas contas em di..."
        ],
        [
         "10",
         "AUMENTO DE LIMITE NO CARTÃO DE CRÉDITO",
         "Olá, Estou tentando aumento de limite no meu cartão NuBank, mais sem sucesso, estou com todas minhas contas em di..."
        ],
        [
         "31",
         "Alguém fez uma compra de 10 reías no meu cartão virtual.",
         "Hoje, acordei pela manhã e recebi uma notificação de que alguém, às 5:40 da manhã, chamado SBR fez uma compra no crédito de 1..."
        ],
        [
         "52",
         "Alguém fez uma compra de 10 reías no meu cartão virtual.",
         "Hoje, acordei pela manhã e recebi uma notificação de que alguém, às 5:40 da manhã, chamado SBR fez uma compra no crédito de 1..."
        ],
        [
         "369",
         "Antecipação de parcela",
         "Bom dia, hoje foi antecipar uma parcela que devo pagar em abril. Quando foi finalizado acabei percebendo que meio que fez uma..."
        ],
        [
         "370",
         "Antecipação de parcela",
         "Bom dia, hoje foi antecipar uma parcela que devo pagar em abril. Quando foi finalizado acabei percebendo que meio que fez uma..."
        ],
        [
         "71",
         "BLOQUEIO INDEVIDO DE CONTA",
         "Hoje 27/02/2025 a NUBANK bloqueou minha conta pessoa física, estou no exterior e preciso pagar conta de hotel e infelizmente ..."
        ],
        [
         "65",
         "BLOQUEIO INDEVIDO DE CONTA",
         "Hoje 27/02/2025 a NUBANK bloqueou minha conta pessoa física, estou no exterior e preciso pagar conta de hotel e infelizmente ..."
        ],
        [
         "88",
         "Bloquearam minha conta sem motivos",
         "Fui usar minha conta e deu erro na transferência pix , depois tentei um novo pagamento que também deu erroEntrei em con..."
        ],
        [
         "98",
         "Bloquearam minha conta sem motivos",
         "Fui usar minha conta e deu erro na transferência pix , depois tentei um novo pagamento que também deu erroEntrei em con..."
        ],
        [
         "102",
         "Bloquearam minha conta sem motivos",
         "Fui usar minha conta e deu erro na transferência pix , depois tentei um novo pagamento que também deu erroEntrei em con..."
        ],
        [
         "66",
         "Bloqueio de segurança nubank",
         "eu emito notas fiscais presto serviços para bancos pago meus impostos em dia tudo comprovado com contratos e darfs dentro da ..."
        ],
        [
         "72",
         "Bloqueio de segurança nubank",
         "eu emito notas fiscais presto serviços para bancos pago meus impostos em dia tudo comprovado com contratos e darfs dentro da ..."
        ],
        [
         "13",
         "COBRANÇA DE Uber INDEVIDA",
         "Boa tarde! Tive 3 débitos em minha conta corrente que aparecem como Uber *Uber* Trip Help. Meu cartão está comigo e não fiz n..."
        ],
        [
         "8",
         "COBRANÇA DE Uber INDEVIDA",
         "Boa tarde! Tive 3 débitos em minha conta corrente que aparecem como Uber *Uber* Trip Help. Meu cartão está comigo e não fiz n..."
        ],
        [
         "280",
         "Cai num [Editado pelo Reclame Aqui] e a nubank facilitou",
         "Levei um [Editado pelo Reclame Aqui], paguei 3 Pix para a mesma pessoa d valores diferentes, pois a cada hora tinha uma descu..."
        ],
        [
         "279",
         "Cai num [Editado pelo Reclame Aqui] e a nubank facilitou",
         "Levei um [Editado pelo Reclame Aqui], paguei 3 Pix para a mesma pessoa d valores diferentes, pois a cada hora tinha uma descu..."
        ],
        [
         "89",
         "Cancelaram minha conta após uma contestação",
         "Vamos lá, fizeram uma contestação na minha conta, o serviço foi prestado, eu tenho o comprovante tudo certinho, até entrei em..."
        ],
        [
         "99",
         "Cancelaram minha conta após uma contestação",
         "Vamos lá, fizeram uma contestação na minha conta, o serviço foi prestado, eu tenho o comprovante tudo certinho, até entrei em..."
        ],
        [
         "103",
         "Cancelaram minha conta após uma contestação",
         "Vamos lá, fizeram uma contestação na minha conta, o serviço foi prestado, eu tenho o comprovante tudo certinho, até entrei em..."
        ],
        [
         "73",
         "Capital de giro difícil de ser contratado.",
         "Hoje eu fui abrir minha conta PJ no Sicredi e mesmo demorando um pouco pra abir por ser cooperativa, já foi me falado da poss..."
        ],
        [
         "67",
         "Capital de giro difícil de ser contratado.",
         "Hoje eu fui abrir minha conta PJ no Sicredi e mesmo demorando um pouco pra abir por ser cooperativa, já foi me falado da poss..."
        ],
        [
         "56",
         "Cartão adicional",
         "Prezados, Emiti um cartão adicional em nome da minha mãe de 89 anos. Acontece que no cadastro do apli..."
        ],
        [
         "35",
         "Cartão adicional",
         "Prezados, Emiti um cartão adicional em nome da minha mãe de 89 anos. Acontece que no cadastro do apli..."
        ],
        [
         "38",
         "Cartão crédito",
         "No mês de janeiro um atendente do banco nubank no chat, me falou que se eu pagasse 5 reais do cartão de crédito ele seria des..."
        ],
        [
         "59",
         "Cartão crédito",
         "No mês de janeiro um atendente do banco nubank no chat, me falou que se eu pagasse 5 reais do cartão de crédito ele seria des..."
        ],
        [
         "97",
         "Cartão de crédito",
         "Oi boa noite poderia reativar meu cartão de crédito"
        ],
        [
         "101",
         "Cartão de crédito",
         "Oi boa noite poderia reativar meu cartão de crédito"
        ],
        [
         "87",
         "Cartão de crédito",
         "Oi boa noite poderia reativar meu cartão de crédito"
        ],
        [
         "9",
         "Cartão de crédito cancelado",
         "Olá quando fiquei desempregado infelizmente não dei conta de pagar meu cartão de crédito. voltei a trabalhar depois de alguns..."
        ],
        [
         "14",
         "Cartão de crédito cancelado",
         "Olá quando fiquei desempregado infelizmente não dei conta de pagar meu cartão de crédito. voltei a trabalhar depois de alguns..."
        ],
        [
         "7",
         "Cobrança da fatura na data errada",
         "Repetiram duas cobranças em fevereiro dias 27 e 28 que já foram pagas, na fatura de março. Além de terem cobrado nos dias i..."
        ],
        [
         "12",
         "Cobrança da fatura na data errada",
         "Repetiram duas cobranças em fevereiro dias 27 e 28 que já foram pagas, na fatura de março. Além de terem cobrado nos dias i..."
        ],
        [
         "92",
         "Comprovante de Rendimentos 2024 - Nuinvest",
         "Era cliente da antiga Nuinvest, e optei por não abrir conta na Nubank, e portanto migrei investimentos.No entanto, nece..."
        ],
        [
         "82",
         "Comprovante de Rendimentos 2024 - Nuinvest",
         "Era cliente da antiga Nuinvest, e optei por não abrir conta na Nubank, e portanto migrei investimentos.No entanto, nece..."
        ],
        [
         "290",
         "Dinheiro sumiu",
         "Boa tarde no final do ano passado fiz uma transferência via pix para o meu banco next , utilizando a conta nubank .Auto..."
        ],
        [
         "289",
         "Dinheiro sumiu",
         "Boa tarde no final do ano passado fiz uma transferência via pix para o meu banco next , utilizando a conta nubank .Auto..."
        ],
        [
         "37",
         "Divida",
         "Estou com uma divida ativa com o nubank e tenho uma oferta para acertar essa pendência. No atual cenário econômico, não tenho..."
        ],
        [
         "58",
         "Divida",
         "Estou com uma divida ativa com o nubank e tenho uma oferta para acertar essa pendência. No atual cenário econômico, não tenho..."
        ],
        [
         "90",
         "Dúvida!!!",
         "Olá, eu gostaria de criar uma conta no Nubank, sou maior de idade, porém, quando fui tentar fazer uma conta dizem que fui apr..."
        ],
        [
         "79",
         "Dúvida!!!",
         "Olá, eu gostaria de criar uma conta no Nubank, sou maior de idade, porém, quando fui tentar fazer uma conta dizem que fui apr..."
        ],
        [
         "80",
         "Dúvida!!!",
         "Olá, eu gostaria de criar uma conta no Nubank, sou maior de idade, porém, quando fui tentar fazer uma conta dizem que fui apr..."
        ],
        [
         "30",
         "Eu gostaria de reativar o meu cartão pois eu tive uma conta atrasada da minha fatura só que eu já paguei tudo está tudo quitado então eu gostaria de reativar pra mim poder usar o meu limite",
         "Eu gostaria após meu cartão ser cancelado eu gostaria de reativar por trás de fatura mas já está tudo quitado está tudo em di..."
        ],
        [
         "51",
         "Eu gostaria de reativar o meu cartão pois eu tive uma conta atrasada da minha fatura só que eu já paguei tudo está tudo quitado então eu gostaria de reativar pra mim poder usar o meu limite",
         "Eu gostaria após meu cartão ser cancelado eu gostaria de reativar por trás de fatura mas já está tudo quitado está tudo em di..."
        ],
        [
         "95",
         "Falta de análise",
         "Assunto: Solicitação de Análise para Crédito PessoalOlá, equipe Nubank, tudo bem?Sou cliente de vocês..."
        ],
        [
         "85",
         "Falta de análise",
         "Assunto: Solicitação de Análise para Crédito PessoalOlá, equipe Nubank, tudo bem?Sou cliente de vocês..."
        ],
        [
         "490",
         "Falta de retorno sobre contestação de Pix Parcelado não autorizado",
         "Venho por meio desta solicitar um posicionamento urgente em relação à contestação de um Pix Parcelado não autorizado realizad..."
        ],
        [
         "489",
         "Falta de retorno sobre contestação de Pix Parcelado não autorizado",
         "Venho por meio desta solicitar um posicionamento urgente em relação à contestação de um Pix Parcelado não autorizado realizad..."
        ]
       ],
       "shape": {
        "columns": 2,
        "rows": 83
       }
      },
      "text/html": [
       "<div>\n",
       "<style scoped>\n",
       "    .dataframe tbody tr th:only-of-type {\n",
       "        vertical-align: middle;\n",
       "    }\n",
       "\n",
       "    .dataframe tbody tr th {\n",
       "        vertical-align: top;\n",
       "    }\n",
       "\n",
       "    .dataframe thead th {\n",
       "        text-align: right;\n",
       "    }\n",
       "</style>\n",
       "<table border=\"1\" class=\"dataframe\">\n",
       "  <thead>\n",
       "    <tr style=\"text-align: right;\">\n",
       "      <th></th>\n",
       "      <th>title</th>\n",
       "      <th>description</th>\n",
       "    </tr>\n",
       "  </thead>\n",
       "  <tbody>\n",
       "    <tr>\n",
       "      <th>460</th>\n",
       "      <td>*******</td>\n",
       "      <td>Eu fiquei realmente sem condição de pagar o ca...</td>\n",
       "    </tr>\n",
       "    <tr>\n",
       "      <th>459</th>\n",
       "      <td>*******</td>\n",
       "      <td>Eu fiquei realmente sem condição de pagar o ca...</td>\n",
       "    </tr>\n",
       "    <tr>\n",
       "      <th>5</th>\n",
       "      <td>AUMENTO DE LIMITE NO CARTÃO DE CRÉDITO</td>\n",
       "      <td>Olá, Estou tentando aumento de limite no meu c...</td>\n",
       "    </tr>\n",
       "    <tr>\n",
       "      <th>10</th>\n",
       "      <td>AUMENTO DE LIMITE NO CARTÃO DE CRÉDITO</td>\n",
       "      <td>Olá, Estou tentando aumento de limite no meu c...</td>\n",
       "    </tr>\n",
       "    <tr>\n",
       "      <th>31</th>\n",
       "      <td>Alguém fez uma compra de 10 reías no meu cartã...</td>\n",
       "      <td>Hoje, acordei pela manhã e recebi uma notifica...</td>\n",
       "    </tr>\n",
       "    <tr>\n",
       "      <th>...</th>\n",
       "      <td>...</td>\n",
       "      <td>...</td>\n",
       "    </tr>\n",
       "    <tr>\n",
       "      <th>94</th>\n",
       "      <td>Tentei cancelar o empréstimo em menos de 24 ho...</td>\n",
       "      <td>Tentei cancelar o empréstimo do Nubank Em meno...</td>\n",
       "    </tr>\n",
       "    <tr>\n",
       "      <th>11</th>\n",
       "      <td>Venda de fundos imobiliários BTHF11</td>\n",
       "      <td>Estou tentando a mais de 1 mês realizar a vend...</td>\n",
       "    </tr>\n",
       "    <tr>\n",
       "      <th>6</th>\n",
       "      <td>Venda de fundos imobiliários BTHF11</td>\n",
       "      <td>Estou tentando a mais de 1 mês realizar a vend...</td>\n",
       "    </tr>\n",
       "    <tr>\n",
       "      <th>119</th>\n",
       "      <td>[Editado pelo Reclame Aqui] PIX NUBANK PARA OU...</td>\n",
       "      <td>Foi efetuado 3 Pix da minha conta , para outra...</td>\n",
       "    </tr>\n",
       "    <tr>\n",
       "      <th>120</th>\n",
       "      <td>[Editado pelo Reclame Aqui] PIX NUBANK PARA OU...</td>\n",
       "      <td>Foi efetuado 3 Pix da minha conta , para outra...</td>\n",
       "    </tr>\n",
       "  </tbody>\n",
       "</table>\n",
       "<p>83 rows × 2 columns</p>\n",
       "</div>"
      ],
      "text/plain": [
       "                                                 title  \\\n",
       "460                                            *******   \n",
       "459                                            *******   \n",
       "5               AUMENTO DE LIMITE NO CARTÃO DE CRÉDITO   \n",
       "10              AUMENTO DE LIMITE NO CARTÃO DE CRÉDITO   \n",
       "31   Alguém fez uma compra de 10 reías no meu cartã...   \n",
       "..                                                 ...   \n",
       "94   Tentei cancelar o empréstimo em menos de 24 ho...   \n",
       "11                 Venda de fundos imobiliários BTHF11   \n",
       "6                  Venda de fundos imobiliários BTHF11   \n",
       "119  [Editado pelo Reclame Aqui] PIX NUBANK PARA OU...   \n",
       "120  [Editado pelo Reclame Aqui] PIX NUBANK PARA OU...   \n",
       "\n",
       "                                           description  \n",
       "460  Eu fiquei realmente sem condição de pagar o ca...  \n",
       "459  Eu fiquei realmente sem condição de pagar o ca...  \n",
       "5    Olá, Estou tentando aumento de limite no meu c...  \n",
       "10   Olá, Estou tentando aumento de limite no meu c...  \n",
       "31   Hoje, acordei pela manhã e recebi uma notifica...  \n",
       "..                                                 ...  \n",
       "94   Tentei cancelar o empréstimo do Nubank Em meno...  \n",
       "11   Estou tentando a mais de 1 mês realizar a vend...  \n",
       "6    Estou tentando a mais de 1 mês realizar a vend...  \n",
       "119  Foi efetuado 3 Pix da minha conta , para outra...  \n",
       "120  Foi efetuado 3 Pix da minha conta , para outra...  \n",
       "\n",
       "[83 rows x 2 columns]"
      ]
     },
     "execution_count": 2,
     "metadata": {},
     "output_type": "execute_result"
    }
   ],
   "source": [
    "# Verificar duplicatas\n",
    "def verificar_duplicatas(df):\n",
    "    print(f\"Número de reclamações duplicadas: {df.duplicated().sum()}\")\n",
    "    return df[df.duplicated(keep=False)].sort_values(by='title')\n",
    "\n",
    "verificar_duplicatas(df)\n"
   ]
  },
  {
   "cell_type": "markdown",
   "metadata": {},
   "source": [
    "Verificando e depois removendo os dados duplicados.\n",
    "\n",
    "```\n",
    "Número de reclamações duplicadas: 44\n",
    "title\tdescription\ttitle_length\tdescription_length\n",
    "460\t*******\tEu fiquei realmente sem condição de pagar o ca...\t7\t128\n",
    "459\t*******\tEu fiquei realmente sem condição de pagar o ca...\t7\t128\n",
    "5\tAUMENTO DE LIMITE NO CARTÃO DE CRÉDITO\tOlá, Estou tentando aumento de limite no meu c...\t38\t116\n",
    "10\tAUMENTO DE LIMITE NO CARTÃO DE CRÉDITO\tOlá, Estou tentando aumento de limite no meu c...\t38\t116\n",
    "31\tAlguém fez uma compra de 10 reías no meu cartã...\tHoje, acordei pela manhã e recebi uma notifica...\t56\t128\n",
    "...\t...\t...\t...\t...\n",
    "94\tTentei cancelar o empréstimo em menos de 24 ho...\tTentei cancelar o empréstimo do Nubank Em meno...\t64\t128\n",
    "11\tVenda de fundos imobiliários BTHF11\tEstou tentando a mais de 1 mês realizar a vend...\t35\t128\n",
    "6\tVenda de fundos imobiliários BTHF11\tEstou tentando a mais de 1 mês realizar a vend...\t35\t128\n",
    "119\t[Editado pelo Reclame Aqui] PIX NUBANK PARA OU...\tFoi efetuado 3 Pix da minha conta , para outra...\t62\t128\n",
    "120\t[Editado pelo Reclame Aqui] PIX NUBANK PARA OU...\tFoi efetuado 3 Pix da minha conta , para outra...\t62\t128\n",
    "83 rows × 4 columns\n",
    "```"
   ]
  },
  {
   "cell_type": "code",
   "execution_count": 3,
   "metadata": {},
   "outputs": [
    {
     "name": "stdout",
     "output_type": "stream",
     "text": [
      "Número de reclamações duplicadas: 0\n"
     ]
    },
    {
     "data": {
      "application/vnd.microsoft.datawrangler.viewer.v0+json": {
       "columns": [
        {
         "name": "index",
         "rawType": "int64",
         "type": "integer"
        },
        {
         "name": "title",
         "rawType": "object",
         "type": "string"
        },
        {
         "name": "description",
         "rawType": "object",
         "type": "string"
        }
       ],
       "conversionMethod": "pd.DataFrame",
       "ref": "c19276d9-7bd7-4cbd-8c14-164f68579ac7",
       "rows": [],
       "shape": {
        "columns": 2,
        "rows": 0
       }
      },
      "text/html": [
       "<div>\n",
       "<style scoped>\n",
       "    .dataframe tbody tr th:only-of-type {\n",
       "        vertical-align: middle;\n",
       "    }\n",
       "\n",
       "    .dataframe tbody tr th {\n",
       "        vertical-align: top;\n",
       "    }\n",
       "\n",
       "    .dataframe thead th {\n",
       "        text-align: right;\n",
       "    }\n",
       "</style>\n",
       "<table border=\"1\" class=\"dataframe\">\n",
       "  <thead>\n",
       "    <tr style=\"text-align: right;\">\n",
       "      <th></th>\n",
       "      <th>title</th>\n",
       "      <th>description</th>\n",
       "    </tr>\n",
       "  </thead>\n",
       "  <tbody>\n",
       "  </tbody>\n",
       "</table>\n",
       "</div>"
      ],
      "text/plain": [
       "Empty DataFrame\n",
       "Columns: [title, description]\n",
       "Index: []"
      ]
     },
     "execution_count": 3,
     "metadata": {},
     "output_type": "execute_result"
    }
   ],
   "source": [
    "df = df.drop_duplicates(subset='title', keep='first')\n",
    "\n",
    "# Verificar duplicatas\n",
    "def verificar_duplicatas(df):\n",
    "    print(f\"Número de reclamações duplicadas: {df.duplicated().sum()}\")\n",
    "    return df[df.duplicated(keep=False)].sort_values(by='title')\n",
    "\n",
    "verificar_duplicatas(df)"
   ]
  },
  {
   "cell_type": "markdown",
   "metadata": {},
   "source": [
    "Número de reclamações duplicadas: 0"
   ]
  },
  {
   "cell_type": "markdown",
   "metadata": {},
   "source": [
    "## Exploração dos Dados <a id='exploracao-dos-dados'></a>"
   ]
  },
  {
   "cell_type": "markdown",
   "metadata": {},
   "source": [
    "### Métricas Gerais <a id='metricas-gerais'></a>"
   ]
  },
  {
   "cell_type": "code",
   "execution_count": null,
   "metadata": {},
   "outputs": [],
   "source": [
    "# Verificar informações do dataframe\n",
    "print(df.info())"
   ]
  },
  {
   "cell_type": "markdown",
   "metadata": {},
   "source": [
    "```\n",
    "<class 'pandas.core.frame.DataFrame'>\n",
    "Index: 411 entries, 0 to 499\n",
    "Data columns (total 4 columns):\n",
    " #   Column              Non-Null Count  Dtype \n",
    "---  ------              --------------  ----- \n",
    " 0   title               411 non-null    object\n",
    " 1   description         411 non-null    object\n",
    " 2   title_length        411 non-null    int64 \n",
    " 3   description_length  411 non-null    int64 \n",
    "dtypes: int64(2), object(2)\n",
    "memory usage: 16.1+ KB\n",
    "```"
   ]
  },
  {
   "cell_type": "code",
   "execution_count": 4,
   "metadata": {},
   "outputs": [
    {
     "data": {
      "application/vnd.microsoft.datawrangler.viewer.v0+json": {
       "columns": [
        {
         "name": "index",
         "rawType": "int64",
         "type": "integer"
        },
        {
         "name": "Quantidade",
         "rawType": "object",
         "type": "string"
        },
        {
         "name": "count",
         "rawType": "int64",
         "type": "integer"
        }
       ],
       "conversionMethod": "pd.DataFrame",
       "ref": "07d500d2-d1a7-4e1b-84d8-39a20365cc1a",
       "rows": [
        [
         "0",
         "Outros",
         "141"
        ],
        [
         "1",
         "Cartão de Crédito",
         "139"
        ],
        [
         "2",
         "Conta",
         "59"
        ],
        [
         "3",
         "Empréstimo",
         "19"
        ],
        [
         "4",
         "Pagamentos",
         "15"
        ],
        [
         "5",
         "Segurança",
         "13"
        ],
        [
         "6",
         "Pix",
         "10"
        ],
        [
         "7",
         "Investimentos",
         "8"
        ],
        [
         "8",
         "Atendimento",
         "7"
        ]
       ],
       "shape": {
        "columns": 2,
        "rows": 9
       }
      },
      "text/html": [
       "<div>\n",
       "<style scoped>\n",
       "    .dataframe tbody tr th:only-of-type {\n",
       "        vertical-align: middle;\n",
       "    }\n",
       "\n",
       "    .dataframe tbody tr th {\n",
       "        vertical-align: top;\n",
       "    }\n",
       "\n",
       "    .dataframe thead th {\n",
       "        text-align: right;\n",
       "    }\n",
       "</style>\n",
       "<table border=\"1\" class=\"dataframe\">\n",
       "  <thead>\n",
       "    <tr style=\"text-align: right;\">\n",
       "      <th></th>\n",
       "      <th>Quantidade</th>\n",
       "      <th>count</th>\n",
       "    </tr>\n",
       "  </thead>\n",
       "  <tbody>\n",
       "    <tr>\n",
       "      <th>0</th>\n",
       "      <td>Outros</td>\n",
       "      <td>141</td>\n",
       "    </tr>\n",
       "    <tr>\n",
       "      <th>1</th>\n",
       "      <td>Cartão de Crédito</td>\n",
       "      <td>139</td>\n",
       "    </tr>\n",
       "    <tr>\n",
       "      <th>2</th>\n",
       "      <td>Conta</td>\n",
       "      <td>59</td>\n",
       "    </tr>\n",
       "    <tr>\n",
       "      <th>3</th>\n",
       "      <td>Empréstimo</td>\n",
       "      <td>19</td>\n",
       "    </tr>\n",
       "    <tr>\n",
       "      <th>4</th>\n",
       "      <td>Pagamentos</td>\n",
       "      <td>15</td>\n",
       "    </tr>\n",
       "    <tr>\n",
       "      <th>5</th>\n",
       "      <td>Segurança</td>\n",
       "      <td>13</td>\n",
       "    </tr>\n",
       "    <tr>\n",
       "      <th>6</th>\n",
       "      <td>Pix</td>\n",
       "      <td>10</td>\n",
       "    </tr>\n",
       "    <tr>\n",
       "      <th>7</th>\n",
       "      <td>Investimentos</td>\n",
       "      <td>8</td>\n",
       "    </tr>\n",
       "    <tr>\n",
       "      <th>8</th>\n",
       "      <td>Atendimento</td>\n",
       "      <td>7</td>\n",
       "    </tr>\n",
       "  </tbody>\n",
       "</table>\n",
       "</div>"
      ],
      "text/plain": [
       "          Quantidade  count\n",
       "0             Outros    141\n",
       "1  Cartão de Crédito    139\n",
       "2              Conta     59\n",
       "3         Empréstimo     19\n",
       "4         Pagamentos     15\n",
       "5          Segurança     13\n",
       "6                Pix     10\n",
       "7      Investimentos      8\n",
       "8        Atendimento      7"
      ]
     },
     "execution_count": 4,
     "metadata": {},
     "output_type": "execute_result"
    }
   ],
   "source": [
    "# Classificar reclamações por tipo/categoria (com base no título)\n",
    "def classificar_reclamacoes(df):\n",
    "    # Lista de palavras-chave para categorias comuns\n",
    "    categorias = {\n",
    "        'Cartão de Crédito': ['cartão', 'cartao', 'crédito', 'credito', 'fatura', 'limite', 'juros'],\n",
    "        'Conta': ['conta', 'bloqueio', 'bloquearam', 'saldo', 'negativo', 'encerr'],\n",
    "        'Pagamentos': ['pagamento', 'transferência', 'transferencia', 'boleto', 'débito', 'debito'],\n",
    "        'Investimentos': ['investimento', 'tesouro', 'rendimento', 'fundo', 'cdb'],\n",
    "        'Segurança': ['fraude', 'clonado', 'clonagem', '[Editado pelo Reclame Aqui]', 'desconhecida', 'indevida'],\n",
    "        'Empréstimo': ['empréstimo', 'emprestimo', 'financiamento', 'parcel'],\n",
    "        'Atendimento': ['atendimento', 'suporte', 'contato', 'ligações', 'funcionário'],\n",
    "        'Pix': ['pix']\n",
    "    }\n",
    "    \n",
    "    def categorizar_titulo(titulo):\n",
    "        titulo_lower = titulo.lower()\n",
    "        for categoria, keywords in categorias.items():\n",
    "            if any(keyword in titulo_lower for keyword in keywords):\n",
    "                return categoria\n",
    "        return 'Outros'\n",
    "    \n",
    "    df['categoria'] = df['title'].apply(categorizar_titulo)\n",
    "    return df['categoria'].value_counts().reset_index().rename(columns={'index': 'Categoria', 'categoria': 'Quantidade'})\n",
    "\n",
    "classificar_reclamacoes(df)"
   ]
  },
  {
   "cell_type": "markdown",
   "metadata": {},
   "source": [
    "Nessa etapa categorizamos as reclamações baseado em algumas palavras-chave contidas no título. Isso será útil para que na hora de criarmos as visualizações, consigamos ter uma ideia geral de quais problemas se destacam dos outros.\n",
    "\n",
    "```\n",
    "\tQuantidade\tcount\n",
    "0\tOutros\t141\n",
    "1\tCartão de Crédito\t139\n",
    "2\tConta\t59\n",
    "3\tEmpréstimo\t19\n",
    "4\tPagamentos\t15\n",
    "5\tSegurança\t13\n",
    "6\tPix\t10\n",
    "7\tInvestimentos\t8\n",
    "8\tAtendimento\t7\n",
    "```"
   ]
  },
  {
   "cell_type": "markdown",
   "metadata": {},
   "source": [
    "## Análise de Texto <a id='analise-de-texto'></a>\n",
    "\n",
    "### Pré-processamento <a id='pre-processamento'></a>"
   ]
  },
  {
   "cell_type": "code",
   "execution_count": 5,
   "metadata": {},
   "outputs": [],
   "source": [
    "import re\n",
    "import nltk\n",
    "from nltk.tokenize import word_tokenize\n",
    "from nltk.corpus import stopwords\n",
    "from nltk.stem import RSLPStemmer\n"
   ]
  },
  {
   "cell_type": "markdown",
   "metadata": {},
   "source": [
    "Nessa etapa vamos utilizar o NLTK que é uma biblioteca clássica de NLP (Processamento de Linguagem Natural) que fornece ferramentas como tokenização, remoção de stopwords, stemming e lematização. Ele é útil para pré-processar textos antes da análise."
   ]
  },
  {
   "cell_type": "code",
   "execution_count": 5,
   "metadata": {},
   "outputs": [],
   "source": [
    "import re\n",
    "from nltk.tokenize import word_tokenize\n",
    "from nltk.corpus import stopwords\n",
    "from nltk.stem import RSLPStemmer\n",
    "\n",
    "# Função aprimorada para limpar e preparar o texto\n",
    "def preprocessar_texto(texto):\n",
    "    if not isinstance(texto, str):\n",
    "        return \"\"\n",
    "    texto = texto.lower()\n",
    "    texto = re.sub(r'https?://\\S+|www\\.\\S+', '', texto)  # Remove URLs\n",
    "    texto = re.sub(r'[^\\w\\s]', '', texto)  # Remove pontuação e símbolos\n",
    "    texto = re.sub(r'\\d+', '', texto)  # Remove números\n",
    "    texto = re.sub(r'\\s+', ' ', texto).strip()  # Remove espaços extras\n",
    "    return texto\n",
    "\n",
    "# Tokenização, remoção de stopwords e stemming\n",
    "def tokenizar_remover_stopwords_stemming(texto):\n",
    "    if not texto:\n",
    "        return []\n",
    "    tokens = word_tokenize(texto, language='portuguese')\n",
    "    stop_words = set(stopwords.words('portuguese'))\n",
    "    tokens = [token for token in tokens if token not in stop_words and len(token) > 2]\n",
    "    stemmer = RSLPStemmer()\n",
    "    tokens = [stemmer.stem(token) for token in tokens]\n",
    "    return tokens\n",
    "\n",
    "# Aplicar o pré-processamento no DataFrame\n",
    "def preprocessar_dataframe(df):\n",
    "    df['titulo_limpo'] = df['title'].apply(preprocessar_texto)\n",
    "    df['descricao_limpa'] = df['description'].apply(preprocessar_texto)\n",
    "    df['tokens_titulo'] = df['titulo_limpo'].apply(tokenizar_remover_stopwords_stemming)\n",
    "    df['tokens_descricao'] = df['descricao_limpa'].apply(tokenizar_remover_stopwords_stemming)\n",
    "    return df\n",
    "\n",
    "df= preprocessar_dataframe(df)"
   ]
  },
  {
   "cell_type": "markdown",
   "metadata": {},
   "source": [
    "### Identificação de Sentimento <a id='identificao-de-sentimentos'></a>\n",
    "\n",
    "Para marcamos o sentimento de cada título e descrição usaremos o Hugging Face (Transformers), ele oferece modelos pré-treinados baseados em Redes Neurais e Deep Learning, como o BERT e DistilBERT, que analisam sentimentos com maior precisão ao considerar o contexto completo das palavras."
   ]
  },
  {
   "cell_type": "code",
   "execution_count": 6,
   "metadata": {},
   "outputs": [
    {
     "name": "stderr",
     "output_type": "stream",
     "text": [
      "Device set to use cpu\n"
     ]
    }
   ],
   "source": [
    "import pandas as pd\n",
    "from transformers import pipeline\n",
    "\n",
    "# Carregar o modelo de sentimento do Hugging Face\n",
    "sentiment_pipeline = pipeline(\"sentiment-analysis\", model=\"nlptown/bert-base-multilingual-uncased-sentiment\")\n",
    "\n",
    "# Função para analisar sentimento e retornar apenas o número (1 a 5)\n",
    "def analisar_sentimento(texto):\n",
    "    if not isinstance(texto, str):\n",
    "        return 3  # Valor padrão (neutro) pra textos inválidos\n",
    "    try:\n",
    "        resultado = sentiment_pipeline(texto[:512])[0] \n",
    "        nota = int(resultado['label'].split()[0]) \n",
    "        return nota\n",
    "    except:\n",
    "        return 3 \n",
    "\n",
    "# Aplicar a análise ao título e descrição\n",
    "df['sentimento_titulo'] = df['titulo_limpo'].apply(analisar_sentimento)\n",
    "df['sentimento_descricao'] = df['descricao_limpa'].apply(analisar_sentimento)\n",
    "\n",
    "df.to_csv(\"reclamacoes_processadas.csv\", index=False, encoding=\"utf-8\")\n",
    "\n",
    "\n"
   ]
  },
  {
   "cell_type": "markdown",
   "metadata": {},
   "source": [
    "## Visualizações <a id='visualizacoes'></a>"
   ]
  },
  {
   "cell_type": "markdown",
   "metadata": {},
   "source": [
    "Hora de juntar todas as nossas análises e visualiza-las para começarmos a ter uma absorção mais fácil de todos esses números e resultados que obtivemos ao tratar e manipular os dados coletados."
   ]
  },
  {
   "cell_type": "code",
   "execution_count": 9,
   "metadata": {},
   "outputs": [],
   "source": [
    "from PIL import Image\n",
    "from wordcloud import WordCloud\n",
    "from nltk.corpus import stopwords\n",
    "from nltk import bigrams\n",
    "from collections import Counter"
   ]
  },
  {
   "cell_type": "code",
   "execution_count": null,
   "metadata": {},
   "outputs": [],
   "source": [
    "def plot_distribuicao_categorias(df):\n",
    "    plt.figure(figsize=(12, 6))\n",
    "    \n",
    "    categoria_counts = df['categoria'].value_counts(ascending=True)\n",
    "    categorias = categoria_counts.index\n",
    "    frequencias = categoria_counts.values\n",
    "    \n",
    "    n_colors = len(categorias)\n",
    "    colors = plt.cm.BuPu_r([1 - (i / n_colors) for i in range(n_colors)])\n",
    "    \n",
    "    bars = plt.barh(categorias, frequencias, color=colors)\n",
    "    \n",
    "    for bar in bars:\n",
    "        width = bar.get_width()\n",
    "        plt.text(\n",
    "            width + 5,\n",
    "            bar.get_y() + bar.get_height() / 2,\n",
    "            f'{int(width)}',\n",
    "            ha='left',\n",
    "            va='center',\n",
    "            fontsize=10\n",
    "        )\n",
    "    \n",
    "    plt.title('Distribuição de Categorias de Reclamações')\n",
    "    plt.xlabel('Número de Reclamações')\n",
    "    plt.ylabel('Categoria')\n",
    "    plt.tight_layout()\n",
    "    return plt\n",
    "\n",
    "# Chamar a função e exibir o gráfico\n",
    "plot_distribuicao_categorias(df)\n",
    "plt.show()"
   ]
  },
  {
   "cell_type": "markdown",
   "metadata": {},
   "source": [
    "![image](dist_cate_rec.png)"
   ]
  },
  {
   "cell_type": "code",
   "execution_count": 10,
   "metadata": {},
   "outputs": [
    {
     "data": {
      "image/png": "[encoded data removed]",
      "text/plain": [
       "<Figure size 1000x500 with 1 Axes>"
      ]
     },
     "metadata": {},
     "output_type": "display_data"
    }
   ],
   "source": [
    "# Carregar o CSV e Imagem WordCloud\n",
    "df = pd.read_csv('reclamacoes_processadas.csv')\n",
    "mask = np.array(Image.open(\"mask-cloud.png\"))\n",
    "\n",
    "# Carregar stopwords em português e adicionar palavras irrelevantes\n",
    "stop_words = set(stopwords.words('portuguese'))\n",
    "stop_words.update(['porém', 'tive', 'é', 'aqui', 'lá', 'pra', 'pro', 'dia', 'fiz',\n",
    "'pois', 'isso', 'aquilo', 'editado', 'venho', 'meio', 'r', 'reclame'])\n",
    "\n",
    "# Função para gerar bigramas e filtrar stopwords\n",
    "def generate_bigrams(text):\n",
    "    words = text.split() \n",
    "    words = [word for word in words if word not in stop_words]\n",
    "    bigram_list = list(bigrams(words))\n",
    "    bigram_str = [' '.join(bigram) for bigram in bigram_list]\n",
    "    return bigram_str\n",
    "\n",
    "\n",
    "all_bigrams = []\n",
    "for desc in df['descricao_limpa'].dropna():\n",
    "    bigrams_desc = generate_bigrams(desc)\n",
    "    all_bigrams.extend(bigrams_desc)\n",
    "\n",
    "bigram_freq = Counter(all_bigrams)\n",
    "\n",
    "# Criar a nuvem de palavras com base nos bigramas\n",
    "wordcloud = WordCloud(width=800, height=400,background_color=\"white\",colormap='BuPu_r', mask=mask, contour_color=\"black\", min_font_size=10).generate_from_frequencies(bigram_freq)\n",
    "\n",
    "# Exibir a nuvem de palavras\n",
    "plt.figure(figsize=(10, 5))\n",
    "plt.imshow(wordcloud, interpolation='bilinear')\n",
    "plt.axis('off')\n",
    "plt.show()"
   ]
  },
  {
   "cell_type": "markdown",
   "metadata": {},
   "source": [
    "![Image](wordcloud_output.png)"
   ]
  },
  {
   "cell_type": "code",
   "execution_count": null,
   "metadata": {},
   "outputs": [],
   "source": [
    "\n",
    "def plot_frequencia_palavras_completas(texto_coluna, titulo, stop_words):\n",
    "    all_text = ' '.join(texto_coluna.dropna())\n",
    "    palavras = all_text.split()\n",
    "    \n",
    "    palavras = [p for p in palavras if len(p) > 2 and p.lower() not in stop_words]\n",
    "    \n",
    "    word_freq = Counter(palavras).most_common(10)\n",
    "    palavras, frequencias = zip(*word_freq)\n",
    "    \n",
    "    palavras = palavras[::-1]\n",
    "    frequencias = frequencias[::-1]\n",
    "    \n",
    "    # Plotar o gráfico\n",
    "    plt.figure(figsize=(10, 6))\n",
    "    bars = plt.barh(palavras, frequencias, color='#820AD1')\n",
    "   \n",
    "    for bar in bars:\n",
    "        width = bar.get_width()  \n",
    "        plt.text(\n",
    "            width + 1,\n",
    "            bar.get_y() + bar.get_height() / 2,  \n",
    "            f'{int(width)}',  \n",
    "            ha='left',        \n",
    "            va='center',      \n",
    "            fontsize=10,      \n",
    "            color='#BC8AE1'     \n",
    "        )\n",
    "    \n",
    "    plt.xlabel('Frequência')\n",
    "    plt.title(f'Palavras Mais Frequentes em {titulo}')\n",
    "    plt.tight_layout()\n",
    "    plt.show()\n",
    "\n",
    "plot_frequencia_palavras_completas(df['titulo_limpo'], 'Títulos das Reclamações', stop_words)\n",
    "plot_frequencia_palavras_completas(df['descricao_limpa'], 'Descrições das Reclamações', stop_words)"
   ]
  },
  {
   "cell_type": "markdown",
   "metadata": {},
   "source": [
    "![image](pala_freq01.png)\n",
    "\n",
    "![image](pala_freq02.png)"
   ]
  },
  {
   "cell_type": "code",
   "execution_count": null,
   "metadata": {},
   "outputs": [],
   "source": [
    "sentimento_titulo_counts = df['sentimento_titulo'].value_counts().sort_index()\n",
    "sentimento_descricao_counts = df['sentimento_descricao'].value_counts().sort_index()\n",
    "\n",
    "# Definir posições das barras\n",
    "notas = [1, 2, 3, 4, 5]\n",
    "bar_width = 0.35  # Largura das barras\n",
    "x = range(len(notas))\n",
    "\n",
    "# Criar o gráfico\n",
    "plt.figure(figsize=(10, 6))\n",
    "plt.bar([i - bar_width/2 for i in x], sentimento_titulo_counts[notas], bar_width, label='Títulos', color='#820AD1')  # Roxo Nubank\n",
    "plt.bar([i + bar_width/2 for i in x], sentimento_descricao_counts[notas], bar_width, label='Descrições', color='#BC8AE1')  # Roxo claro\n",
    "\n",
    "# Adicionar valores acima das barras\n",
    "for i in x:\n",
    "    plt.text(i - bar_width/2, sentimento_titulo_counts[notas[i]] + 5, f'{int(sentimento_titulo_counts[notas[i]])}', \n",
    "             ha='center', va='bottom', fontsize=10)\n",
    "    plt.text(i + bar_width/2, sentimento_descricao_counts[notas[i]] + 5, f'{int(sentimento_descricao_counts[notas[i]])}', \n",
    "             ha='center', va='bottom', fontsize=10)\n",
    "\n",
    "# Personalizar o gráfico\n",
    "plt.xlabel('Nota de Sentimento (1 a 5)')\n",
    "plt.ylabel('Número de Reclamações')\n",
    "plt.title('Distribuição de Sentimentos em Títulos e Descrições')\n",
    "plt.xticks(x, notas)\n",
    "plt.legend()\n",
    "plt.tight_layout()\n",
    "\n",
    "# Exibir o gráfico\n",
    "plt.show()"
   ]
  },
  {
   "cell_type": "markdown",
   "metadata": {},
   "source": [
    "![image](dist_sent01.png)"
   ]
  },
  {
   "cell_type": "markdown",
   "metadata": {},
   "source": [
    "## Insights e Recomendações <a id='insights-e-recomendacoes'></a>"
   ]
  },
  {
   "cell_type": "markdown",
   "metadata": {},
   "source": [
    "## Notas e Advertências <a id='notas-e-advertencias'></a>"
   ]
  },
  {
   "cell_type": "markdown",
   "metadata": {},
   "source": [
    "## Conclusões <a id='conclusoes'></a>"
   ]
  }
 ],
 "metadata": {
  "kernelspec": {
   "display_name": "Python 3",
   "language": "python",
   "name": "python3"
  },
  "language_info": {
   "codemirror_mode": {
    "name": "ipython",
    "version": 3
   },
   "file_extension": ".py",
   "mimetype": "text/x-python",
   "name": "python",
   "nbconvert_exporter": "python",
   "pygments_lexer": "ipython3",
   "version": "3.13.2"
  }
 },
 "nbformat": 4,
 "nbformat_minor": 2
}
